{
  "nbformat": 4,
  "nbformat_minor": 0,
  "metadata": {
    "colab": {
      "provenance": [],
      "authorship_tag": "ABX9TyPMmblpJYjFzsO2eDU/4DNI",
      "include_colab_link": true
    },
    "kernelspec": {
      "name": "python3",
      "display_name": "Python 3"
    },
    "language_info": {
      "name": "python"
    }
  },
  "cells": [
    {
      "cell_type": "markdown",
      "metadata": {
        "id": "view-in-github",
        "colab_type": "text"
      },
      "source": [
        "<a href=\"https://colab.research.google.com/github/Charly5853/Python_Emage_Processing_ML_12_November_2024/blob/main/run_preprocessing.ipynb\" target=\"_parent\"><img src=\"https://colab.research.google.com/assets/colab-badge.svg\" alt=\"Open In Colab\"/></a>"
      ]
    },
    {
      "cell_type": "code",
      "execution_count": 2,
      "metadata": {
        "colab": {
          "base_uri": "https://localhost:8080/",
          "height": 384
        },
        "id": "ow8KucRGEY6V",
        "outputId": "5cb0e224-3c68-4d24-b61a-2cb796537d31"
      },
      "outputs": [
        {
          "output_type": "error",
          "ename": "ModuleNotFoundError",
          "evalue": "No module named 'data_downloader'",
          "traceback": [
            "\u001b[0;31m---------------------------------------------------------------------------\u001b[0m",
            "\u001b[0;31mModuleNotFoundError\u001b[0m                       Traceback (most recent call last)",
            "\u001b[0;32m<ipython-input-2-04cfab02fcb7>\u001b[0m in \u001b[0;36m<cell line: 1>\u001b[0;34m()\u001b[0m\n\u001b[0;32m----> 1\u001b[0;31m \u001b[0;32mfrom\u001b[0m \u001b[0mdata_downloader\u001b[0m \u001b[0;32mimport\u001b[0m \u001b[0mAmazonReviewDownloader\u001b[0m\u001b[0;34m\u001b[0m\u001b[0;34m\u001b[0m\u001b[0m\n\u001b[0m\u001b[1;32m      2\u001b[0m \u001b[0;32mfrom\u001b[0m \u001b[0mdata_preprocessing\u001b[0m \u001b[0;32mimport\u001b[0m \u001b[0mReviewPreprocessor\u001b[0m\u001b[0;34m,\u001b[0m \u001b[0mDataProcessor\u001b[0m\u001b[0;34m,\u001b[0m \u001b[0mcreate_data_loaders\u001b[0m\u001b[0;34m\u001b[0m\u001b[0;34m\u001b[0m\u001b[0m\n\u001b[1;32m      3\u001b[0m \u001b[0;32mimport\u001b[0m \u001b[0mtorch\u001b[0m\u001b[0;34m\u001b[0m\u001b[0;34m\u001b[0m\u001b[0m\n\u001b[1;32m      4\u001b[0m \u001b[0;32mfrom\u001b[0m \u001b[0mpathlib\u001b[0m \u001b[0;32mimport\u001b[0m \u001b[0mPath\u001b[0m\u001b[0;34m\u001b[0m\u001b[0;34m\u001b[0m\u001b[0m\n\u001b[1;32m      5\u001b[0m \u001b[0;34m\u001b[0m\u001b[0m\n",
            "\u001b[0;31mModuleNotFoundError\u001b[0m: No module named 'data_downloader'",
            "",
            "\u001b[0;31m---------------------------------------------------------------------------\u001b[0;32m\nNOTE: If your import is failing due to a missing package, you can\nmanually install dependencies using either !pip or !apt.\n\nTo view examples of installing some common dependencies, click the\n\"Open Examples\" button below.\n\u001b[0;31m---------------------------------------------------------------------------\u001b[0m\n"
          ],
          "errorDetails": {
            "actions": [
              {
                "action": "open_url",
                "actionText": "Open Examples",
                "url": "/notebooks/snippets/importing_libraries.ipynb"
              }
            ]
          }
        }
      ],
      "source": [
        "from data_downloader import AmazonReviewDownloader\n",
        "from data_preprocessing import ReviewPreprocessor, DataProcessor, create_data_loaders\n",
        "import torch\n",
        "from pathlib import Path\n",
        "\n",
        "def main():\n",
        "    # Setup paths\n",
        "    data_dir = Path('data')\n",
        "\n",
        "    # Download data\n",
        "    print(\"Downloading dataset...\")\n",
        "    downloader = AmazonReviewDownloader(data_dir)\n",
        "    downloader.download_and_extract()\n",
        "\n",
        "    # Initialize preprocessor\n",
        "    print(\"Initializing preprocessor...\")\n",
        "    preprocessor = ReviewPreprocessor(\n",
        "        max_length=100,\n",
        "        min_length=5,\n",
        "        min_word_freq=2\n",
        "    )\n",
        "\n",
        "    # Process data\n",
        "    print(\"Processing data...\")\n",
        "    processor = DataProcessor(data_dir / 'raw', preprocessor)\n",
        "    train_data, val_data, test_data = processor.process_data()\n",
        "\n",
        "    # Create data loaders\n",
        "    print(\"Creating data loaders...\")\n",
        "    train_loader, val_loader, test_loader = create_data_loaders(\n",
        "        train_data, val_data, test_data, batch_size=32\n",
        "    )\n",
        "\n",
        "    # Save preprocessed data and preprocessor\n",
        "    print(\"Saving processed data...\")\n",
        "    torch.save({\n",
        "        'train_data': train_data,\n",
        "        'val_data': val_data,\n",
        "        'test_data': test_data,\n",
        "        'preprocessor': preprocessor\n",
        "    }, data_dir / 'processed' / 'processed_data.pt')\n",
        "\n",
        "    print(\"Data preprocessing completed!\")\n",
        "    print(f\"Vocabulary size: {len(preprocessor.word2idx)}\")\n",
        "    print(f\"Training samples: {len(train_data[0])}\")\n",
        "    print(f\"Validation samples: {len(val_data[0])}\")\n",
        "    print(f\"Test samples: {len(test_data[0])}\")\n",
        "\n",
        "if __name__ == '__main__':\n",
        "    main()"
      ]
    }
  ]
}