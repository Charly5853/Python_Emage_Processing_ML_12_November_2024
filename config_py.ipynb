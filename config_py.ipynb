{
  "nbformat": 4,
  "nbformat_minor": 0,
  "metadata": {
    "colab": {
      "provenance": [],
      "authorship_tag": "ABX9TyNiVDd40RB032OjkjFfiqUY",
      "include_colab_link": true
    },
    "kernelspec": {
      "name": "python3",
      "display_name": "Python 3"
    },
    "language_info": {
      "name": "python"
    }
  },
  "cells": [
    {
      "cell_type": "markdown",
      "metadata": {
        "id": "view-in-github",
        "colab_type": "text"
      },
      "source": [
        "<a href=\"https://colab.research.google.com/github/Charly5853/Python_Emage_Processing_ML_12_November_2024/blob/main/config_py.ipynb\" target=\"_parent\"><img src=\"https://colab.research.google.com/assets/colab-badge.svg\" alt=\"Open In Colab\"/></a>"
      ]
    },
    {
      "cell_type": "code",
      "execution_count": 2,
      "metadata": {
        "colab": {
          "base_uri": "https://localhost:8080/",
          "height": 211
        },
        "id": "B3Ddn_KP0JzK",
        "outputId": "f158944b-775e-4462-e326-c28bbc19bf5c"
      },
      "outputs": [
        {
          "output_type": "error",
          "ename": "NameError",
          "evalue": "name '__file__' is not defined",
          "traceback": [
            "\u001b[0;31m---------------------------------------------------------------------------\u001b[0m",
            "\u001b[0;31mNameError\u001b[0m                                 Traceback (most recent call last)",
            "\u001b[0;32m<ipython-input-2-25caa7b972cb>\u001b[0m in \u001b[0;36m<cell line: 5>\u001b[0;34m()\u001b[0m\n\u001b[1;32m      3\u001b[0m \u001b[0;34m\u001b[0m\u001b[0m\n\u001b[1;32m      4\u001b[0m \u001b[0;31m# Base directory\u001b[0m\u001b[0;34m\u001b[0m\u001b[0;34m\u001b[0m\u001b[0m\n\u001b[0;32m----> 5\u001b[0;31m \u001b[0mBASE_DIR\u001b[0m \u001b[0;34m=\u001b[0m \u001b[0mPath\u001b[0m\u001b[0;34m(\u001b[0m\u001b[0m__file__\u001b[0m\u001b[0;34m)\u001b[0m\u001b[0;34m.\u001b[0m\u001b[0mresolve\u001b[0m\u001b[0;34m(\u001b[0m\u001b[0;34m)\u001b[0m\u001b[0;34m.\u001b[0m\u001b[0mparent\u001b[0m\u001b[0;34m.\u001b[0m\u001b[0mparent\u001b[0m\u001b[0;34m\u001b[0m\u001b[0;34m\u001b[0m\u001b[0m\n\u001b[0m\u001b[1;32m      6\u001b[0m \u001b[0;34m\u001b[0m\u001b[0m\n\u001b[1;32m      7\u001b[0m \u001b[0;31m# Data paths\u001b[0m\u001b[0;34m\u001b[0m\u001b[0;34m\u001b[0m\u001b[0m\n",
            "\u001b[0;31mNameError\u001b[0m: name '__file__' is not defined"
          ]
        }
      ],
      "source": [
        "import os\n",
        "from pathlib import Path\n",
        "\n",
        "# Base directory\n",
        "BASE_DIR = Path(__file__).resolve().parent.parent\n",
        "\n",
        "# Data paths\n",
        "DATA_DIR = BASE_DIR / \"data\"\n",
        "RAW_DATA_DIR = DATA_DIR / \"raw\"\n",
        "PROCESSED_DATA_DIR = DATA_DIR / \"processed\"\n",
        "\n",
        "# Model parameters\n",
        "MODEL_PARAMS = {\n",
        "    \"embedding_dim\": 100,\n",
        "    \"hidden_dim\": 128,\n",
        "    \"n_layers\": 2,\n",
        "    \"dropout\": 0.2,\n",
        "    \"batch_size\": 64,\n",
        "    \"learning_rate\": 0.001,\n",
        "    \"num_epochs\": 10\n",
        "}\n",
        "\n",
        "# Text preprocessing parameters\n",
        "TEXT_PARAMS = {\n",
        "    \"max_length\": 100,\n",
        "    \"min_length\": 5,\n",
        "    \"min_word_freq\": 5\n",
        "}\n",
        "\n",
        "# Training parameters\n",
        "TRAIN_PARAMS = {\n",
        "    \"train_size\": 0.7,\n",
        "    \"val_size\": 0.15,\n",
        "    \"test_size\": 0.15,\n",
        "    \"random_state\": 42\n",
        "}\n",
        "\n",
        "# Model saving\n",
        "MODEL_DIR = BASE_DIR / \"models\"\n",
        "MODEL_DIR.mkdir(exist_ok=True)\n",
        "BEST_MODEL_PATH = MODEL_DIR / \"best_model.pt\"\n",
        "PREPROCESSOR_PATH = MODEL_DIR / \"preprocessor.pkl\"\n",
        "\n",
        "# Create necessary directories\n",
        "RAW_DATA_DIR.mkdir(exist_ok=True)\n",
        "PROCESSED_DATA_DIR.mkdir(exist_ok=True)\n",
        "\n"
      ]
    }
  ]
}