{
  "nbformat": 4,
  "nbformat_minor": 0,
  "metadata": {
    "colab": {
      "provenance": [],
      "authorship_tag": "ABX9TyMXbukkzGQfRZdFRs0x+/sh",
      "include_colab_link": true
    },
    "kernelspec": {
      "name": "python3",
      "display_name": "Python 3"
    },
    "language_info": {
      "name": "python"
    }
  },
  "cells": [
    {
      "cell_type": "markdown",
      "metadata": {
        "id": "view-in-github",
        "colab_type": "text"
      },
      "source": [
        "<a href=\"https://colab.research.google.com/github/Charly5853/Python_Emage_Processing_ML_12_November_2024/blob/main/data_downloader.ipynb\" target=\"_parent\"><img src=\"https://colab.research.google.com/assets/colab-badge.svg\" alt=\"Open In Colab\"/></a>"
      ]
    },
    {
      "cell_type": "code",
      "execution_count": 1,
      "metadata": {
        "colab": {
          "base_uri": "https://localhost:8080/"
        },
        "id": "tAQAO-XhCKbZ",
        "outputId": "b1a71349-9e45-4e59-85de-48f54adc4f53"
      },
      "outputs": [
        {
          "output_type": "stream",
          "name": "stdout",
          "text": [
            "Downloading books reviews...\n"
          ]
        },
        {
          "output_type": "stream",
          "name": "stderr",
          "text": [
            "processed_acl.tar.gz: 19.6MB [00:00, 26.6MB/s]                            \n"
          ]
        },
        {
          "output_type": "stream",
          "name": "stdout",
          "text": [
            "Extracting books reviews...\n"
          ]
        }
      ],
      "source": [
        "import os\n",
        "import urllib.request\n",
        "import gzip\n",
        "import shutil\n",
        "from pathlib import Path\n",
        "from tqdm import tqdm\n",
        "\n",
        "class DownloadProgressBar(tqdm):\n",
        "    def update_to(self, b=1, bsize=1, tsize=None):\n",
        "        if tsize is not None:\n",
        "            self.total = tsize\n",
        "        self.update(b * bsize - self.n)\n",
        "\n",
        "def download_url(url, output_path):\n",
        "    with DownloadProgressBar(unit='B', unit_scale=True,\n",
        "                           miniters=1, desc=url.split('/')[-1]) as t:\n",
        "        urllib.request.urlretrieve(url, filename=output_path, reporthook=t.update_to)\n",
        "\n",
        "class AmazonReviewDownloader:\n",
        "    def __init__(self, data_dir):\n",
        "        self.data_dir = Path(data_dir)\n",
        "        self.raw_dir = self.data_dir / 'raw'\n",
        "        self.processed_dir = self.data_dir / 'processed'\n",
        "\n",
        "        # Create directories if they don't exist\n",
        "        self.raw_dir.mkdir(parents=True, exist_ok=True)\n",
        "        self.processed_dir.mkdir(parents=True, exist_ok=True)\n",
        "\n",
        "        # URLs for the Amazon review datasets\n",
        "        self.urls = {\n",
        "            'books': 'http://www.cs.jhu.edu/~mdredze/datasets/sentiment/processed_acl.tar.gz'\n",
        "        }\n",
        "\n",
        "    def download_and_extract(self):\n",
        "        \"\"\"Download and extract the Amazon review datasets\"\"\"\n",
        "        for category, url in self.urls.items():\n",
        "            # Download file\n",
        "            compressed_file = self.raw_dir / f'{category}.tar.gz'\n",
        "            if not compressed_file.exists():\n",
        "                print(f'Downloading {category} reviews...')\n",
        "                download_url(url, compressed_file)\n",
        "\n",
        "            # Extract file\n",
        "            extract_dir = self.raw_dir / category\n",
        "            if not extract_dir.exists():\n",
        "                print(f'Extracting {category} reviews...')\n",
        "                shutil.unpack_archive(compressed_file, extract_dir)\n",
        "\n",
        "    def get_review_files(self):\n",
        "        \"\"\"Get paths to positive and negative review files\"\"\"\n",
        "        return {\n",
        "            'positive': list(self.raw_dir.glob('**/positive.review')),\n",
        "            'negative': list(self.raw_dir.glob('**/negative.review'))\n",
        "        }\n",
        "\n",
        "if __name__ == '__main__':\n",
        "    downloader = AmazonReviewDownloader('data')\n",
        "    downloader.download_and_extract()"
      ]
    }
  ]
}