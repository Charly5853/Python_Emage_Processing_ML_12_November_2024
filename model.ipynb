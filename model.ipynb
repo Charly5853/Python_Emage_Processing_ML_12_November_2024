{
  "nbformat": 4,
  "nbformat_minor": 0,
  "metadata": {
    "colab": {
      "provenance": [],
      "authorship_tag": "ABX9TyMzwZBmZ//rAkCvbVjQmOGl",
      "include_colab_link": true
    },
    "kernelspec": {
      "name": "python3",
      "display_name": "Python 3"
    },
    "language_info": {
      "name": "python"
    }
  },
  "cells": [
    {
      "cell_type": "markdown",
      "metadata": {
        "id": "view-in-github",
        "colab_type": "text"
      },
      "source": [
        "<a href=\"https://colab.research.google.com/github/Charly5853/Python_Emage_Processing_ML_12_November_2024/blob/main/model.ipynb\" target=\"_parent\"><img src=\"https://colab.research.google.com/assets/colab-badge.svg\" alt=\"Open In Colab\"/></a>"
      ]
    },
    {
      "cell_type": "code",
      "execution_count": 1,
      "metadata": {
        "id": "Lpq2-ZUjDvGi"
      },
      "outputs": [],
      "source": [
        "import torch\n",
        "import torch.nn as nn\n",
        "import torch.nn.functional as F\n",
        "\n",
        "class SentimentAnalysisModel(nn.Module):\n",
        "    def __init__(self, vocab_size, embedding_dim=100, hidden_dim=256, n_layers=2, dropout=0.5):\n",
        "        super().__init__()\n",
        "\n",
        "        self.embedding = nn.Embedding(vocab_size, embedding_dim, padding_idx=0)\n",
        "\n",
        "        # Bidirectional LSTM\n",
        "        self.lstm = nn.LSTM(\n",
        "            embedding_dim,\n",
        "            hidden_dim,\n",
        "            num_layers=n_layers,\n",
        "            bidirectional=True,\n",
        "            dropout=dropout if n_layers > 1 else 0,\n",
        "            batch_first=True\n",
        "        )\n",
        "\n",
        "        # Attention layer\n",
        "        self.attention = nn.Linear(hidden_dim * 2, 1)\n",
        "\n",
        "        # Output layers\n",
        "        self.fc = nn.Sequential(\n",
        "            nn.Linear(hidden_dim * 2, hidden_dim),\n",
        "            nn.ReLU(),\n",
        "            nn.Dropout(dropout),\n",
        "            nn.Linear(hidden_dim, 1)\n",
        "        )\n",
        "\n",
        "    def attention_net(self, lstm_output, final_state):\n",
        "        \"\"\"\n",
        "        Attention mechanism to focus on relevant parts of the input\n",
        "        \"\"\"\n",
        "        # lstm_output shape: (batch_size, seq_len, hidden_dim * 2)\n",
        "        # final_state shape: (batch_size, hidden_dim * 2)\n",
        "\n",
        "        attention_weights = torch.tanh(self.attention(lstm_output))\n",
        "        attention_weights = F.softmax(attention_weights, dim=1)\n",
        "\n",
        "        # attention_output shape: (batch_size, hidden_dim * 2)\n",
        "        attention_output = torch.sum(attention_weights * lstm_output, dim=1)\n",
        "        return attention_output\n",
        "\n",
        "    def forward(self, text):\n",
        "        # text shape: (batch_size, seq_length)\n",
        "\n",
        "        embedded = self.embedding(text)\n",
        "        # embedded shape: (batch_size, seq_length, embedding_dim)\n",
        "\n",
        "        lstm_output, (hidden, cell) = self.lstm(embedded)\n",
        "        # lstm_output shape: (batch_size, seq_length, hidden_dim * 2)\n",
        "        # hidden shape: (n_layers * 2, batch_size, hidden_dim)\n",
        "\n",
        "        # Get the final forward and backward hidden states\n",
        "        hidden = torch.cat((hidden[-2,:,:], hidden[-1,:,:]), dim=1)\n",
        "        # hidden shape: (batch_size, hidden_dim * 2)\n",
        "\n",
        "        # Apply attention\n",
        "        attention_output = self.attention_net(lstm_output, hidden)\n",
        "\n",
        "        # Pass through final layers\n",
        "        output = self.fc(attention_output)\n",
        "\n",
        "        return torch.sigmoid(output).squeeze()\n",
        "\n",
        "    def count_parameters(self):\n",
        "        \"\"\"Count the total number of trainable parameters\"\"\"\n",
        "        return sum(p.numel() for p in self.parameters() if p.requires_grad)"
      ]
    }
  ]
}